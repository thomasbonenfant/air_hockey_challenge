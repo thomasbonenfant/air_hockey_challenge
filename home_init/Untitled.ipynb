{
 "cells": [
  {
   "cell_type": "code",
   "execution_count": 1,
   "id": "ab913e0d-c3c1-4a2c-aea7-bb417d819d0f",
   "metadata": {},
   "outputs": [],
   "source": [
    "import numpy as np\n"
   ]
  },
  {
   "cell_type": "code",
   "execution_count": 8,
   "id": "7162d322-8b20-437b-bf45-e557e13ac084",
   "metadata": {},
   "outputs": [],
   "source": [
    "joint_pos = np.load('joint_pos_log.npy')\n",
    "joint_vel = np.load('joint_vel_log.npy')\n",
    "task_change = np.load('task_change_log.npy')"
   ]
  },
  {
   "cell_type": "code",
   "execution_count": 11,
   "id": "9f10945e-6f7b-478e-8ba6-47b0acf8f111",
   "metadata": {},
   "outputs": [
    {
     "data": {
      "text/plain": [
       "(227, 7)"
      ]
     },
     "execution_count": 11,
     "metadata": {},
     "output_type": "execute_result"
    }
   ],
   "source": [
    "joint_pos.shape"
   ]
  },
  {
   "cell_type": "code",
   "execution_count": 12,
   "id": "3f95f746-689d-4d38-8981-02cef7d950f3",
   "metadata": {},
   "outputs": [],
   "source": [
    "target = np.array([0., -0.1961, 0., -1.8436, 0., 0.9704, 0.])"
   ]
  },
  {
   "cell_type": "code",
   "execution_count": 16,
   "id": "7d5781d3-6ac7-4f17-bfa2-72c3dbcb614e",
   "metadata": {},
   "outputs": [
    {
     "data": {
      "text/plain": [
       "2"
      ]
     },
     "execution_count": 16,
     "metadata": {},
     "output_type": "execute_result"
    }
   ],
   "source": [
    "np.max(np.array([1,2,3]) - np.array([1,1,1]), axis=0)"
   ]
  },
  {
   "cell_type": "code",
   "execution_count": 27,
   "id": "98fde151-4b5d-4375-a029-c3e96c562579",
   "metadata": {},
   "outputs": [
    {
     "data": {
      "text/plain": [
       "array([2, 6, 4])"
      ]
     },
     "execution_count": 27,
     "metadata": {},
     "output_type": "execute_result"
    }
   ],
   "source": [
    "np.max(np.array([[1,2,3],[1,2,3]]) - np.array([[1,4,1],[-1,-4,-1]]),axis=0)"
   ]
  },
  {
   "cell_type": "code",
   "execution_count": null,
   "id": "ff939d77-397b-4c71-8243-d5337c17398b",
   "metadata": {},
   "outputs": [],
   "source": []
  }
 ],
 "metadata": {
  "kernelspec": {
   "display_name": "Python 3 (ipykernel)",
   "language": "python",
   "name": "python3"
  },
  "language_info": {
   "codemirror_mode": {
    "name": "ipython",
    "version": 3
   },
   "file_extension": ".py",
   "mimetype": "text/x-python",
   "name": "python",
   "nbconvert_exporter": "python",
   "pygments_lexer": "ipython3",
   "version": "3.8.16"
  }
 },
 "nbformat": 4,
 "nbformat_minor": 5
}
